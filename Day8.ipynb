{
  "nbformat": 4,
  "nbformat_minor": 0,
  "metadata": {
    "colab": {
      "provenance": [],
      "authorship_tag": "ABX9TyPWV9f7cNcEGmhAAG1vP5y3",
      "include_colab_link": true
    },
    "kernelspec": {
      "name": "python3",
      "display_name": "Python 3"
    },
    "language_info": {
      "name": "python"
    }
  },
  "cells": [
    {
      "cell_type": "markdown",
      "metadata": {
        "id": "view-in-github",
        "colab_type": "text"
      },
      "source": [
        "<a href=\"https://colab.research.google.com/github/NagillaSannidhi/python/blob/main/Day8.ipynb\" target=\"_parent\"><img src=\"https://colab.research.google.com/assets/colab-badge.svg\" alt=\"Open In Colab\"/></a>"
      ]
    },
    {
      "cell_type": "code",
      "execution_count": 1,
      "metadata": {
        "id": "kOJk-uRMWRdU"
      },
      "outputs": [],
      "source": [
        "#For loop & while loop\n"
      ]
    },
    {
      "cell_type": "code",
      "source": [
        "x = 5\n",
        "while x<10:\n",
        "  print('yes',x)\n",
        "  x = x+1"
      ],
      "metadata": {
        "colab": {
          "base_uri": "https://localhost:8080/"
        },
        "id": "sB8b2Dp0Xpxs",
        "outputId": "87b2a677-2f7c-46f5-b9ba-cd26c31b4b67"
      },
      "execution_count": 18,
      "outputs": [
        {
          "output_type": "stream",
          "name": "stdout",
          "text": [
            "yes 5\n",
            "yes 6\n",
            "yes 7\n",
            "yes 8\n",
            "yes 9\n"
          ]
        }
      ]
    },
    {
      "cell_type": "code",
      "source": [
        "y=[20,30,40,50,60,70]\n",
        "y"
      ],
      "metadata": {
        "colab": {
          "base_uri": "https://localhost:8080/"
        },
        "id": "4iks5RplZCGo",
        "outputId": "1e1b8ba6-2b9f-4602-e338-9e4674f26c84"
      },
      "execution_count": 19,
      "outputs": [
        {
          "output_type": "execute_result",
          "data": {
            "text/plain": [
              "[20, 30, 40, 50, 60, 70]"
            ]
          },
          "metadata": {},
          "execution_count": 19
        }
      ]
    },
    {
      "cell_type": "code",
      "source": [
        "for i in y:\n",
        "  print(i)"
      ],
      "metadata": {
        "colab": {
          "base_uri": "https://localhost:8080/"
        },
        "id": "qRPWdSzwaDsx",
        "outputId": "9baf4047-ed33-4785-f3e2-ad26984703f9"
      },
      "execution_count": 20,
      "outputs": [
        {
          "output_type": "stream",
          "name": "stdout",
          "text": [
            "20\n",
            "30\n",
            "40\n",
            "50\n",
            "60\n",
            "70\n"
          ]
        }
      ]
    },
    {
      "cell_type": "code",
      "source": [
        "for i in y:\n",
        "  print(i*85)"
      ],
      "metadata": {
        "colab": {
          "base_uri": "https://localhost:8080/"
        },
        "id": "gLiEStBdaKNA",
        "outputId": "0cf5360e-35ff-46f3-edce-9fa2056b1d81"
      },
      "execution_count": 21,
      "outputs": [
        {
          "output_type": "stream",
          "name": "stdout",
          "text": [
            "1700\n",
            "2550\n",
            "3400\n",
            "4250\n",
            "5100\n",
            "5950\n"
          ]
        }
      ]
    },
    {
      "cell_type": "code",
      "source": [
        "a=[]\n",
        "for i in y:\n",
        "  y = i*5+10\n",
        "  a.append(y)"
      ],
      "metadata": {
        "id": "X1V84Wbrb35F"
      },
      "execution_count": 23,
      "outputs": []
    },
    {
      "cell_type": "code",
      "source": [
        "a"
      ],
      "metadata": {
        "colab": {
          "base_uri": "https://localhost:8080/"
        },
        "id": "Iv2DtE_gcVZj",
        "outputId": "07ed8785-a9d0-49f0-a30d-bd7bcfe211af"
      },
      "execution_count": 25,
      "outputs": [
        {
          "output_type": "execute_result",
          "data": {
            "text/plain": [
              "[110, 160, 210, 260, 310, 360]"
            ]
          },
          "metadata": {},
          "execution_count": 25
        }
      ]
    },
    {
      "cell_type": "code",
      "source": [
        "num=[31,42,53,64,75,86,97]\n",
        "num"
      ],
      "metadata": {
        "colab": {
          "base_uri": "https://localhost:8080/"
        },
        "id": "Ef_fEKhZcZFi",
        "outputId": "9fd3b15a-005c-4905-a194-8ebbedee5e93"
      },
      "execution_count": 26,
      "outputs": [
        {
          "output_type": "execute_result",
          "data": {
            "text/plain": [
              "[31, 42, 53, 64, 75, 86, 97]"
            ]
          },
          "metadata": {},
          "execution_count": 26
        }
      ]
    },
    {
      "cell_type": "code",
      "source": [
        "even=[]\n",
        "odd=[]\n",
        "for i in num:\n",
        "  if i%2==0:\n",
        "    even.append(i)\n",
        "  else:\n",
        "    odd.append(i)"
      ],
      "metadata": {
        "id": "AgXFaPI4dQfq"
      },
      "execution_count": 27,
      "outputs": []
    },
    {
      "cell_type": "code",
      "source": [
        "even"
      ],
      "metadata": {
        "colab": {
          "base_uri": "https://localhost:8080/"
        },
        "id": "XAdAVd8xeHZA",
        "outputId": "e43ad403-12ef-498a-e114-838144b70a11"
      },
      "execution_count": 28,
      "outputs": [
        {
          "output_type": "execute_result",
          "data": {
            "text/plain": [
              "[42, 64, 86]"
            ]
          },
          "metadata": {},
          "execution_count": 28
        }
      ]
    },
    {
      "cell_type": "code",
      "source": [
        "odd"
      ],
      "metadata": {
        "colab": {
          "base_uri": "https://localhost:8080/"
        },
        "id": "n0GNYGkSeIej",
        "outputId": "78e74605-b30d-4d7e-c82b-f856c24b392b"
      },
      "execution_count": 29,
      "outputs": [
        {
          "output_type": "execute_result",
          "data": {
            "text/plain": [
              "[31, 53, 75, 97]"
            ]
          },
          "metadata": {},
          "execution_count": 29
        }
      ]
    },
    {
      "cell_type": "code",
      "source": [
        "num1=[31,45,33,67,87,89,93,25,59,9,81]\n",
        "num1"
      ],
      "metadata": {
        "colab": {
          "base_uri": "https://localhost:8080/"
        },
        "id": "79Wa1Lu3eJVm",
        "outputId": "2c51d0d2-400d-4d67-b9d5-4ea6afda7796"
      },
      "execution_count": 52,
      "outputs": [
        {
          "output_type": "execute_result",
          "data": {
            "text/plain": [
              "[31, 45, 33, 67, 87, 89, 93, 25, 59, 9, 81]"
            ]
          },
          "metadata": {},
          "execution_count": 52
        }
      ]
    },
    {
      "cell_type": "code",
      "source": [
        "h=[]\n",
        "for i in num1:\n",
        "  a=str(i)\n",
        "  b=a.replace('8','5')\n",
        "  c=int(b)\n",
        "  h.append(c)"
      ],
      "metadata": {
        "id": "Ru7BXKVKhlu2"
      },
      "execution_count": 53,
      "outputs": []
    },
    {
      "cell_type": "code",
      "source": [
        "h"
      ],
      "metadata": {
        "colab": {
          "base_uri": "https://localhost:8080/"
        },
        "id": "FE6fQ0PAjHDU",
        "outputId": "6b1d6a46-6499-4d24-b151-afd0fca0da33"
      },
      "execution_count": 54,
      "outputs": [
        {
          "output_type": "execute_result",
          "data": {
            "text/plain": [
              "[31, 45, 33, 67, 57, 59, 93, 25, 59, 9, 51]"
            ]
          },
          "metadata": {},
          "execution_count": 54
        }
      ]
    },
    {
      "cell_type": "code",
      "source": [
        "h=[]\n",
        "for i in num1:\n",
        "  j=str(i)\n",
        "  if j[0]=='8':\n",
        "    a=int('5'+j[1:])\n",
        "    h.append(a)\n",
        "  else:\n",
        "    h.append(int(j))"
      ],
      "metadata": {
        "id": "gnayOpEDjHxl"
      },
      "execution_count": 55,
      "outputs": []
    },
    {
      "cell_type": "code",
      "source": [
        "h"
      ],
      "metadata": {
        "colab": {
          "base_uri": "https://localhost:8080/"
        },
        "id": "US_JLRPNjYp0",
        "outputId": "abd7088d-d5c2-41f2-ab35-97b8e127303c"
      },
      "execution_count": 56,
      "outputs": [
        {
          "output_type": "execute_result",
          "data": {
            "text/plain": [
              "[31, 45, 33, 67, 57, 59, 93, 25, 59, 9, 51]"
            ]
          },
          "metadata": {},
          "execution_count": 56
        }
      ]
    },
    {
      "cell_type": "code",
      "source": [
        "x= 'SoftwareO'\n",
        "y=''\n",
        "for i in x:\n",
        "  if i.lower() not in ('s','o'):\n",
        "    y+=i"
      ],
      "metadata": {
        "id": "D42xcELCjaBV"
      },
      "execution_count": 59,
      "outputs": []
    },
    {
      "cell_type": "code",
      "source": [
        "y"
      ],
      "metadata": {
        "colab": {
          "base_uri": "https://localhost:8080/",
          "height": 36
        },
        "id": "tEr0-imblEM1",
        "outputId": "05f82c36-f6d8-4fd8-a48f-4a5c4400840f"
      },
      "execution_count": 60,
      "outputs": [
        {
          "output_type": "execute_result",
          "data": {
            "text/plain": [
              "'ftware'"
            ],
            "application/vnd.google.colaboratory.intrinsic+json": {
              "type": "string"
            }
          },
          "metadata": {},
          "execution_count": 60
        }
      ]
    },
    {
      "cell_type": "code",
      "source": [],
      "metadata": {
        "id": "0x_XSFo0lFaC"
      },
      "execution_count": null,
      "outputs": []
    }
  ]
}