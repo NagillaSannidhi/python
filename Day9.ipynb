{
  "nbformat": 4,
  "nbformat_minor": 0,
  "metadata": {
    "colab": {
      "provenance": [],
      "authorship_tag": "ABX9TyORf5KgAgckyVNQNTi5Kbxm",
      "include_colab_link": true
    },
    "kernelspec": {
      "name": "python3",
      "display_name": "Python 3"
    },
    "language_info": {
      "name": "python"
    }
  },
  "cells": [
    {
      "cell_type": "markdown",
      "metadata": {
        "id": "view-in-github",
        "colab_type": "text"
      },
      "source": [
        "<a href=\"https://colab.research.google.com/github/NagillaSannidhi/python/blob/main/Day9.ipynb\" target=\"_parent\"><img src=\"https://colab.research.google.com/assets/colab-badge.svg\" alt=\"Open In Colab\"/></a>"
      ]
    },
    {
      "cell_type": "code",
      "execution_count": null,
      "metadata": {
        "id": "pSQwbPf2mgZT"
      },
      "outputs": [],
      "source": [
        "#Functions\n",
        "def function_name(parameter):\n",
        "block of code\n",
        "return output"
      ]
    },
    {
      "cell_type": "code",
      "source": [
        "def calArea(r):\n",
        "  area=3.14*r*r\n",
        "  return area"
      ],
      "metadata": {
        "id": "cIfeN0Zumy99"
      },
      "execution_count": 1,
      "outputs": []
    },
    {
      "cell_type": "code",
      "source": [
        "calArea(r=30)"
      ],
      "metadata": {
        "colab": {
          "base_uri": "https://localhost:8080/"
        },
        "id": "hPyyz8dAm2WS",
        "outputId": "5b1a55d3-526f-4e57-a873-66b7888d2930"
      },
      "execution_count": 2,
      "outputs": [
        {
          "output_type": "execute_result",
          "data": {
            "text/plain": [
              "2826.0"
            ]
          },
          "metadata": {},
          "execution_count": 2
        }
      ]
    },
    {
      "cell_type": "code",
      "source": [
        "w=calArea(25)"
      ],
      "metadata": {
        "id": "83F3_qVSm5uD"
      },
      "execution_count": 3,
      "outputs": []
    },
    {
      "cell_type": "code",
      "source": [
        "w"
      ],
      "metadata": {
        "colab": {
          "base_uri": "https://localhost:8080/"
        },
        "id": "bQatS41fnA69",
        "outputId": "265ac897-f6e1-4eeb-bdd7-b63bdb58563e"
      },
      "execution_count": 4,
      "outputs": [
        {
          "output_type": "execute_result",
          "data": {
            "text/plain": [
              "1962.5"
            ]
          },
          "metadata": {},
          "execution_count": 4
        }
      ]
    },
    {
      "cell_type": "code",
      "source": [
        "type(w)"
      ],
      "metadata": {
        "colab": {
          "base_uri": "https://localhost:8080/"
        },
        "id": "GgwsU_SAnDry",
        "outputId": "b3785ecd-bb6f-4dbb-f7c6-c1f2c422048a"
      },
      "execution_count": 5,
      "outputs": [
        {
          "output_type": "execute_result",
          "data": {
            "text/plain": [
              "float"
            ]
          },
          "metadata": {},
          "execution_count": 5
        }
      ]
    },
    {
      "cell_type": "code",
      "source": [
        "def calArea(r):\n",
        "  area=3.14*r*r\n",
        "  print(area)"
      ],
      "metadata": {
        "id": "JyraFn8_nGkV"
      },
      "execution_count": 6,
      "outputs": []
    },
    {
      "cell_type": "code",
      "source": [
        "calArea(r=45)"
      ],
      "metadata": {
        "colab": {
          "base_uri": "https://localhost:8080/"
        },
        "id": "U87PzC9ynJPt",
        "outputId": "7fc0ce3a-ad5d-4e61-be34-b34f36de5d09"
      },
      "execution_count": 7,
      "outputs": [
        {
          "output_type": "stream",
          "name": "stdout",
          "text": [
            "6358.500000000001\n"
          ]
        }
      ]
    },
    {
      "cell_type": "code",
      "source": [
        "w=calArea(45)\n",
        "w"
      ],
      "metadata": {
        "colab": {
          "base_uri": "https://localhost:8080/"
        },
        "id": "5d4xi7j_nLvS",
        "outputId": "636d4660-e8ac-4082-df47-907e7436c7de"
      },
      "execution_count": 8,
      "outputs": [
        {
          "output_type": "stream",
          "name": "stdout",
          "text": [
            "6358.500000000001\n"
          ]
        }
      ]
    },
    {
      "cell_type": "code",
      "source": [
        "type(w)   #Never use print for functions"
      ],
      "metadata": {
        "colab": {
          "base_uri": "https://localhost:8080/"
        },
        "id": "GfQqSEcYnPPi",
        "outputId": "a1003bab-34fd-4c24-c77e-cb9646ee4797"
      },
      "execution_count": 9,
      "outputs": [
        {
          "output_type": "execute_result",
          "data": {
            "text/plain": [
              "NoneType"
            ]
          },
          "metadata": {},
          "execution_count": 9
        }
      ]
    },
    {
      "cell_type": "code",
      "source": [
        "def rectangleArea(length, width):\n",
        "    return length * width"
      ],
      "metadata": {
        "id": "WAPIPxUhnR5W"
      },
      "execution_count": 10,
      "outputs": []
    },
    {
      "cell_type": "code",
      "source": [
        "rectangleArea(36,23)"
      ],
      "metadata": {
        "colab": {
          "base_uri": "https://localhost:8080/"
        },
        "id": "egWZTfUQnUpJ",
        "outputId": "48d599db-c396-43d8-b40b-19d97c5c0c95"
      },
      "execution_count": 11,
      "outputs": [
        {
          "output_type": "execute_result",
          "data": {
            "text/plain": [
              "828"
            ]
          },
          "metadata": {},
          "execution_count": 11
        }
      ]
    },
    {
      "cell_type": "code",
      "source": [
        "def area(r,l,w):\n",
        "  area1=3.14*r*r\n",
        "  area2=l*w\n",
        "  return area1,area2"
      ],
      "metadata": {
        "id": "_DmJ0vIZnXSE"
      },
      "execution_count": 12,
      "outputs": []
    },
    {
      "cell_type": "code",
      "source": [
        "area(r=23,l=56,w=3)"
      ],
      "metadata": {
        "colab": {
          "base_uri": "https://localhost:8080/"
        },
        "id": "Yex4yD3inaQN",
        "outputId": "9aa6a1c8-2fa0-4e85-fe82-3492ecf7d6c1"
      },
      "execution_count": 13,
      "outputs": [
        {
          "output_type": "execute_result",
          "data": {
            "text/plain": [
              "(1661.06, 168)"
            ]
          },
          "metadata": {},
          "execution_count": 13
        }
      ]
    },
    {
      "cell_type": "code",
      "source": [
        "def area(r,l,w):\n",
        "  area1=3.14*r*r\n",
        "  area2=l*w\n",
        "  return {'Area of circle':area1,'Area of rectangle':area2}"
      ],
      "metadata": {
        "id": "8SGi_GZzncwv"
      },
      "execution_count": 14,
      "outputs": []
    },
    {
      "cell_type": "code",
      "source": [
        "area(r=20,l=16,w=8)"
      ],
      "metadata": {
        "colab": {
          "base_uri": "https://localhost:8080/"
        },
        "id": "1jwaSUR6ni1X",
        "outputId": "e100ce27-dfea-4d9d-b207-a1580050b75c"
      },
      "execution_count": 15,
      "outputs": [
        {
          "output_type": "execute_result",
          "data": {
            "text/plain": [
              "{'Area of circle': 1256.0, 'Area of rectangle': 128}"
            ]
          },
          "metadata": {},
          "execution_count": 15
        }
      ]
    },
    {
      "cell_type": "code",
      "source": [
        "t='HyderabAAd'\n",
        "t"
      ],
      "metadata": {
        "colab": {
          "base_uri": "https://localhost:8080/",
          "height": 36
        },
        "id": "c_TeLmStnk9Z",
        "outputId": "04439d3f-110a-4b92-ceff-88035393a905"
      },
      "execution_count": 16,
      "outputs": [
        {
          "output_type": "execute_result",
          "data": {
            "text/plain": [
              "'HyderabAAd'"
            ],
            "application/vnd.google.colaboratory.intrinsic+json": {
              "type": "string"
            }
          },
          "metadata": {},
          "execution_count": 16
        }
      ]
    },
    {
      "cell_type": "code",
      "source": [
        "def Count(t):\n",
        "  count=0\n",
        "  for i in t:\n",
        "    count=count+1\n",
        "  return count"
      ],
      "metadata": {
        "id": "zLres3Tannx_"
      },
      "execution_count": 17,
      "outputs": []
    },
    {
      "cell_type": "code",
      "source": [
        "Count(t='HyderabAAd')"
      ],
      "metadata": {
        "colab": {
          "base_uri": "https://localhost:8080/"
        },
        "id": "JGtpn4DLnxaw",
        "outputId": "ea8ce4a7-7c9f-478a-cb23-c2e08f8d2a6e"
      },
      "execution_count": 18,
      "outputs": [
        {
          "output_type": "execute_result",
          "data": {
            "text/plain": [
              "10"
            ]
          },
          "metadata": {},
          "execution_count": 18
        }
      ]
    },
    {
      "cell_type": "code",
      "source": [
        "def Count(t):\n",
        "  y=t.lower()\n",
        "  return y.Count('a')"
      ],
      "metadata": {
        "id": "7sku9Ykjn0LJ"
      },
      "execution_count": 19,
      "outputs": []
    },
    {
      "cell_type": "code",
      "source": [
        "def count_num_alpha(x):\n",
        "  c=0\n",
        "  d=0\n",
        "  for i in x:\n",
        "    if i.isdigit():\n",
        "      c=c+1\n",
        "    elif i.isalpha():\n",
        "      d=d+1\n",
        "  return c,d"
      ],
      "metadata": {
        "id": "VjsQq2W-n2-k"
      },
      "execution_count": 21,
      "outputs": []
    },
    {
      "cell_type": "code",
      "source": [],
      "metadata": {
        "id": "O8_cDk7eoM_M"
      },
      "execution_count": 25,
      "outputs": []
    },
    {
      "cell_type": "code",
      "source": [],
      "metadata": {
        "id": "awBnoriVooLF"
      },
      "execution_count": null,
      "outputs": []
    }
  ]
}